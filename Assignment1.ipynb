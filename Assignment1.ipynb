{
  "nbformat": 4,
  "nbformat_minor": 0,
  "metadata": {
    "colab": {
      "name": "Assignment1.ipynb",
      "provenance": []
    },
    "kernelspec": {
      "name": "python3",
      "display_name": "Python 3"
    },
    "language_info": {
      "name": "python"
    }
  },
  "cells": [
    {
      "cell_type": "code",
      "metadata": {
        "id": "jSP7mgs8on-3"
      },
      "source": [
        "import pandas as pd\n",
        "import numpy as np"
      ],
      "execution_count": 23,
      "outputs": []
    },
    {
      "cell_type": "code",
      "metadata": {
        "id": "KliGcisapI-v"
      },
      "source": [
        "fileloc= '/content/sample_data/data_set/'"
      ],
      "execution_count": 24,
      "outputs": []
    },
    {
      "cell_type": "code",
      "metadata": {
        "id": "mjREv4lhpNKX"
      },
      "source": [
        "from sklearn.cluster import KMeans\n",
        "\n",
        "from sklearn.metrics import silhouette_score\n",
        "\n",
        "from sklearn.metrics import davies_bouldin_score"
      ],
      "execution_count": 25,
      "outputs": []
    },
    {
      "cell_type": "code",
      "metadata": {
        "id": "5gzH5dTJpPsQ"
      },
      "source": [
        "shilout=np.zeros((56,20)) # used to store best silhouette_score for all features on 56 projects\n",
        "\n",
        "dbinx=np.zeros((56,20))  # used to store best davies_bouldin_score for all features on 56 projects\n",
        "\n",
        "otnoc=np.zeros((56,20))  # used to store optimal number of clusters using silhouette_score for all features on 56 projects\n",
        "\n",
        "otnoc1=np.zeros((56,20))  # used to store optimal number of clusters using davies_bouldin_score for all features on 56 projects"
      ],
      "execution_count": 26,
      "outputs": []
    },
    {
      "cell_type": "code",
      "metadata": {
        "id": "5ByypJPxpVcj"
      },
      "source": [
        "for i in range(1,57): # for project 1 to 57\n",
        "\n",
        "  fname=fileloc+str(i)+'.csv'\n",
        "  data=np.genfromtxt(fname,delimiter=',')\n",
        "\n",
        "  for j in range(0,20): # for feature 0 to 19\n",
        "\n",
        "    sv=np.zeros((9))\n",
        "\n",
        "    dbv=np.zeros((9))\n",
        "    \n",
        "    for k in range(2,11): # for cluster 2 to 10\n",
        "      if np.shape(np.unique(data[:,j]))[0]>k:\n",
        "\n",
        "        kmeans = KMeans(n_clusters=k, random_state=0).fit(data[:,j].reshape(-1,1))\n",
        "\n",
        "        sv[k-2]=silhouette_score(data[:,j].reshape(-1,1),kmeans.labels_,metric='euclidean')\n",
        "\n",
        "        dbv[k-2]=davies_bouldin_score(data[:,j].reshape(-1,1),kmeans.labels_)\n",
        "\n",
        "\n",
        "    s1=np.max(sv) # find best silhouette_score\n",
        "\n",
        "    s2=np.argmax(sv) # find optimal number of cluster\n",
        "\n",
        "    shilout[i-1,j]=s1\n",
        "\n",
        "    otnoc[i-1,j]=s2+2\n",
        "\n",
        "    s1=np.min(dbv) #min db index\n",
        "\n",
        "    s2=np.argmin(dbv) #optimal cluster corresponding to min value\n",
        "\n",
        "    dbinx[i-1,j]=s1\n",
        "\n",
        "    otnoc1[i-1,j]=s2+2\n",
        "\n",
        "fname=fileloc+'shilout.csv' # save shilout value\n",
        "\n",
        "np.savetxt(fname,shilout, delimiter=',', fmt='%f')  \n",
        "\n",
        "fname=fileloc+'dbinx.csv' # save db_index value\n",
        "\n",
        "np.savetxt(fname,dbinx, delimiter=',', fmt='%f')  \n",
        "\n",
        "fname=fileloc+'best_cluster_shil.csv' # save optimal number of cluster\n",
        "\n",
        "np.savetxt(fname,otnoc, delimiter=',', fmt='%f')  \n",
        "\n",
        "fname=fileloc+'best_cluster_dbinx.csv' # save optimal number of cluster based on db_index\n",
        "\n",
        "np.savetxt(fname,otnoc1, delimiter=',', fmt='%f')"
      ],
      "execution_count": 27,
      "outputs": []
    },
    {
      "cell_type": "markdown",
      "metadata": {
        "id": "MgEnTLnmpkcP"
      },
      "source": [
        "**Visualization Section**\n"
      ]
    },
    {
      "cell_type": "code",
      "metadata": {
        "id": "W1Zp8qrzpX-q"
      },
      "source": [
        "%matplotlib inline\n",
        "import numpy as np\n",
        "import matplotlib.pyplot as plt\n",
        "file_location = '/content/sample_data/data_set/'"
      ],
      "execution_count": 98,
      "outputs": []
    },
    {
      "cell_type": "markdown",
      "metadata": {
        "id": "ZybP7Cp1Uph1"
      },
      "source": [
        "**Box plot of Silhouette Coefficient** "
      ]
    },
    {
      "cell_type": "code",
      "metadata": {
        "id": "WaUsLSjFpiDL",
        "colab": {
          "base_uri": "https://localhost:8080/",
          "height": 283
        },
        "outputId": "0a208058-1b78-4c53-dca2-e6206bcf2fce"
      },
      "source": [
        "shilout_data = np.genfromtxt(fileloc+'shilout.csv', delimiter =',')\n",
        "plt.boxplot(shilout_data)\n",
        "plt.show()\n",
        "plt.savefig(\"/content/sample_data/data_set/shilout_data.png\")"
      ],
      "execution_count": 99,
      "outputs": [
        {
          "output_type": "display_data",
          "data": {
            "image/png": "[encoded data removed]",
            "text/plain": [
              "<Figure size 432x288 with 1 Axes>"
            ]
          },
          "metadata": {
            "needs_background": "light"
          }
        },
        {
          "output_type": "display_data",
          "data": {
            "text/plain": [
              "<Figure size 432x288 with 0 Axes>"
            ]
          },
          "metadata": {}
        }
      ]
    },
    {
      "cell_type": "markdown",
      "metadata": {
        "id": "zov_a9CVVPrn"
      },
      "source": [
        "**Box plot of Davies–Bouldin index** "
      ]
    },
    {
      "cell_type": "code",
      "metadata": {
        "id": "xsS2VB6Wpsha",
        "colab": {
          "base_uri": "https://localhost:8080/",
          "height": 283
        },
        "outputId": "30f57e5f-821d-46ad-9389-3b49182d7d13"
      },
      "source": [
        "dbinx_data = np.genfromtxt(fileloc+'dbinx.csv', delimiter =',')\n",
        "plt.boxplot(dbinx_data)\n",
        "plt.show()\n",
        "plt.savefig(\"/content/sample_data/data_set/dbinx_data.png\")"
      ],
      "execution_count": 100,
      "outputs": [
        {
          "output_type": "display_data",
          "data": {
            "image/png": "[encoded data removed]",
            "text/plain": [
              "<Figure size 432x288 with 1 Axes>"
            ]
          },
          "metadata": {
            "needs_background": "light"
          }
        },
        {
          "output_type": "display_data",
          "data": {
            "text/plain": [
              "<Figure size 432x288 with 0 Axes>"
            ]
          },
          "metadata": {}
        }
      ]
    },
    {
      "cell_type": "markdown",
      "metadata": {
        "id": "fRY5ZhpwVune"
      },
      "source": [
        "**Box plot of optimal number of clusters using the Silhouette Coefficient**"
      ]
    },
    {
      "cell_type": "code",
      "metadata": {
        "colab": {
          "base_uri": "https://localhost:8080/",
          "height": 283
        },
        "id": "8myOPOe4WErK",
        "outputId": "caa90373-5a4e-44a3-b534-ebbdf6d55be8"
      },
      "source": [
        "shilout_cluster = np.genfromtxt(fileloc+'best_cluster_shil.csv', delimiter =',')\n",
        "plt.boxplot(shilout_cluster)\n",
        "plt.show()\n",
        "plt.savefig(\"/content/sample_data/data_set/best_cluster_shil.png\")"
      ],
      "execution_count": 101,
      "outputs": [
        {
          "output_type": "display_data",
          "data": {
            "image/png": "[encoded data removed]",
            "text/plain": [
              "<Figure size 432x288 with 1 Axes>"
            ]
          },
          "metadata": {
            "needs_background": "light"
          }
        },
        {
          "output_type": "display_data",
          "data": {
            "text/plain": [
              "<Figure size 432x288 with 0 Axes>"
            ]
          },
          "metadata": {}
        }
      ]
    },
    {
      "cell_type": "markdown",
      "metadata": {
        "id": "8rawYL-4XfK1"
      },
      "source": [
        "**Box plot of optimal number of clusters using the Davies–Bouldin index**"
      ]
    },
    {
      "cell_type": "code",
      "metadata": {
        "colab": {
          "base_uri": "https://localhost:8080/",
          "height": 283
        },
        "id": "t7u-W_cUXTkR",
        "outputId": "1b650d46-ff4f-436c-c3ab-fbacfd79c905"
      },
      "source": [
        "dbinx_cluster = np.genfromtxt(fileloc+'best_cluster_dbinx.csv', delimiter =',')\n",
        "plt.boxplot(dbinx_cluster)\n",
        "plt.show()\n",
        "plt.savefig(\"/content/sample_data/data_set/best_cluster_dbinx.png\")"
      ],
      "execution_count": 102,
      "outputs": [
        {
          "output_type": "display_data",
          "data": {
            "image/png": "[encoded data removed]",
            "text/plain": [
              "<Figure size 432x288 with 1 Axes>"
            ]
          },
          "metadata": {
            "needs_background": "light"
          }
        },
        {
          "output_type": "display_data",
          "data": {
            "text/plain": [
              "<Figure size 432x288 with 0 Axes>"
            ]
          },
          "metadata": {}
        }
      ]
    },
    {
      "cell_type": "code",
      "metadata": {
        "id": "mj71VsaQwGdd"
      },
      "source": [
        "%matplotlib inline\n",
        "import numpy as np\n",
        "import matplotlib.pyplot as plt\n",
        "file_location = '/content/sample_data/data_set/'"
      ],
      "execution_count": 103,
      "outputs": []
    },
    {
      "cell_type": "markdown",
      "metadata": {
        "id": "slYVyXOuYWxn"
      },
      "source": [
        "**Histogram plot of Silhouette Coefficient** "
      ]
    },
    {
      "cell_type": "code",
      "metadata": {
        "colab": {
          "base_uri": "https://localhost:8080/",
          "height": 283
        },
        "id": "dsMEvyuQYSBK",
        "outputId": "1b56cf43-0261-44a6-ca2c-203706bdffca"
      },
      "source": [
        "shilout_data_histogram = np.genfromtxt(fileloc+'shilout.csv', delimiter =',')\n",
        "plt.hist(shilout_data_histogram)\n",
        "plt.show()\n",
        "plt.savefig(\"/content/sample_data/data_set/shilout_data_histo.png\")"
      ],
      "execution_count": 104,
      "outputs": [
        {
          "output_type": "display_data",
          "data": {
            "image/png": "[encoded data removed]",
            "text/plain": [
              "<Figure size 432x288 with 1 Axes>"
            ]
          },
          "metadata": {
            "needs_background": "light"
          }
        },
        {
          "output_type": "display_data",
          "data": {
            "text/plain": [
              "<Figure size 432x288 with 0 Axes>"
            ]
          },
          "metadata": {}
        }
      ]
    },
    {
      "cell_type": "markdown",
      "metadata": {
        "id": "O7ZwRKzRY2yb"
      },
      "source": [
        "**Histogram plot of Davies–Bouldin index** "
      ]
    },
    {
      "cell_type": "code",
      "metadata": {
        "colab": {
          "base_uri": "https://localhost:8080/",
          "height": 283
        },
        "id": "R-EPvLJXYmkn",
        "outputId": "0c19922c-dc80-4b15-b4a7-f0dbe625b244"
      },
      "source": [
        "dbinx_data_histogram = np.genfromtxt(fileloc+'dbinx.csv', delimiter =',')\n",
        "plt.hist(dbinx_data_histogram)\n",
        "plt.show()\n",
        "plt.savefig(\"/content/sample_data/data_set/dbinx_data_histo.png\")"
      ],
      "execution_count": 106,
      "outputs": [
        {
          "output_type": "display_data",
          "data": {
            "image/png": "[encoded data removed]",
            "text/plain": [
              "<Figure size 432x288 with 1 Axes>"
            ]
          },
          "metadata": {
            "needs_background": "light"
          }
        },
        {
          "output_type": "display_data",
          "data": {
            "text/plain": [
              "<Figure size 432x288 with 0 Axes>"
            ]
          },
          "metadata": {}
        }
      ]
    },
    {
      "cell_type": "markdown",
      "metadata": {
        "id": "tUvpaqaWZfC0"
      },
      "source": [
        "**Histogram plot of optimal number of clusters using the Silhouette Coefficient**"
      ]
    },
    {
      "cell_type": "code",
      "metadata": {
        "colab": {
          "base_uri": "https://localhost:8080/",
          "height": 283
        },
        "id": "2zapeEygZDhU",
        "outputId": "2b397bc2-0e2f-4322-9dc4-28298c07bf0f"
      },
      "source": [
        "shilout_cluster_histogram = np.genfromtxt(fileloc+'best_cluster_shil.csv', delimiter =',')\n",
        "plt.hist(shilout_cluster)\n",
        "plt.show()\n",
        "plt.savefig(\"/content/sample_data/data_set/best_cluster_shil_histo.png\")"
      ],
      "execution_count": 107,
      "outputs": [
        {
          "output_type": "display_data",
          "data": {
            "image/png": "[encoded data removed]",
            "text/plain": [
              "<Figure size 432x288 with 1 Axes>"
            ]
          },
          "metadata": {
            "needs_background": "light"
          }
        },
        {
          "output_type": "display_data",
          "data": {
            "text/plain": [
              "<Figure size 432x288 with 0 Axes>"
            ]
          },
          "metadata": {}
        }
      ]
    },
    {
      "cell_type": "markdown",
      "metadata": {
        "id": "eT12nMVFZI9F"
      },
      "source": [
        "**Histogram plot of optimal number of clusters using the Davies–Bouldin index**"
      ]
    },
    {
      "cell_type": "code",
      "metadata": {
        "colab": {
          "base_uri": "https://localhost:8080/",
          "height": 283
        },
        "id": "RZrQmXI1aGgv",
        "outputId": "d8dcdad5-eae2-4a77-9250-95fc4b9c98a4"
      },
      "source": [
        "db_cluster_histogram = np.genfromtxt(fileloc+'best_cluster_dbinx.csv', delimiter =',')\n",
        "plt.hist(shilout_cluster_histogram)\n",
        "plt.show()\n",
        "plt.savefig(\"/content/sample_data/data_set/best_cluster_dbinx_histo.png\")"
      ],
      "execution_count": 108,
      "outputs": [
        {
          "output_type": "display_data",
          "data": {
            "image/png": "[encoded data removed]",
            "text/plain": [
              "<Figure size 432x288 with 1 Axes>"
            ]
          },
          "metadata": {
            "needs_background": "light"
          }
        },
        {
          "output_type": "display_data",
          "data": {
            "text/plain": [
              "<Figure size 432x288 with 0 Axes>"
            ]
          },
          "metadata": {}
        }
      ]
    }
  ]
}